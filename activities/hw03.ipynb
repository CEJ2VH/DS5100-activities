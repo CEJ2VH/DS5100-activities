{
 "cells": [
  {
   "cell_type": "markdown",
   "id": "d31b93a7-f221-4338-b044-734458a05492",
   "metadata": {
    "tags": []
   },
   "source": [
    "# Metadata\n",
    "\n",
    "```yaml\n",
    "Course:   DS 5100\n",
    "Term:     Fall 2023\n",
    "Module:   M03 Homework\n",
    "Author:   R.C. Alvarado\n",
    "Date:     19 August 2023 (revised)\n",
    "```"
   ]
  },
  {
   "cell_type": "markdown",
   "id": "91c2bea0-57b5-4e2d-b7c3-bae818c949cc",
   "metadata": {},
   "source": [
    "# Student Info\n",
    "\n",
    "* Name:\n",
    "* Net ID:\n",
    "* URL of this file in GitHub:"
   ]
  },
  {
   "cell_type": "markdown",
   "id": "9f03ef56-683b-4301-8697-bdca61d8d546",
   "metadata": {
    "tags": []
   },
   "source": [
    "# Instructions\n",
    "\n",
    "In your **private course repo on Rivanna**, write a Jupyter notebook running Python that performs the numbered tasks below. \n",
    "\n",
    "For each task, create a code cell to perform the task.\n",
    "\n",
    "Save your notebook in the `M03` directory as `hw03.ipynb`. \n",
    "\n",
    "Add and commit these files to your repo. \n",
    "\n",
    "Then push your commits to your repo on GitHib.\n",
    "\n",
    "Be sure to fill out the **Student Info** block above.\n",
    "\n",
    "To submit your homework, save the notebook as a PDF and upload it to GradeScope, following the instructions.\n",
    "\n",
    "**12 points**"
   ]
  },
  {
   "cell_type": "markdown",
   "id": "809cced7-1024-41af-93bd-737ba99241a7",
   "metadata": {},
   "source": [
    "# Task 1\n",
    "\n",
    "(6 points)\n",
    "\n",
    "Using the **for** loop and **if** statement control structures, \n",
    "write a script that generates the integers from $1$ to $100$ and does the following things:\n",
    "\n",
    "* If $3$ is a factor of the number but $5$ is not, print `Wahoo`.\n",
    "* If $5$ is a factor of the number but $3$ is not, print `wah!`.\n",
    "* If both $3$ and $5$ are factors of the number, print `Wahoowah!`.\n",
    "* If the number meets none of the above conditions, print nothing, not even a line break.\n",
    "* Make sure that the line printed for each iteration in which a condition is met ends with a line break.\n",
    "* When the loop is finished, print the number of times either conidtion was met, i.e. the number of lines that were printed.\n",
    "\n",
    "Hint: You may not need to use **elif** and **else** to accomplish these tasks."
   ]
  },
  {
   "cell_type": "code",
   "execution_count": 4,
   "id": "73e6b63d-38ca-488a-9a2a-009c150d8dbd",
   "metadata": {},
   "outputs": [
    {
     "name": "stdout",
     "output_type": "stream",
     "text": [
      "3: Wahoo\n",
      "\n",
      "5: wah!\n",
      "\n",
      "6: Wahoo\n",
      "\n",
      "9: Wahoo\n",
      "\n",
      "10: wah!\n",
      "\n",
      "12: Wahoo\n",
      "\n",
      "15: Wahoowah!\n",
      "\n",
      "18: Wahoo\n",
      "\n",
      "20: wah!\n",
      "\n",
      "21: Wahoo\n",
      "\n",
      "24: Wahoo\n",
      "\n",
      "25: wah!\n",
      "\n",
      "27: Wahoo\n",
      "\n",
      "30: Wahoowah!\n",
      "\n",
      "33: Wahoo\n",
      "\n",
      "35: wah!\n",
      "\n",
      "36: Wahoo\n",
      "\n",
      "39: Wahoo\n",
      "\n",
      "40: wah!\n",
      "\n",
      "42: Wahoo\n",
      "\n",
      "45: Wahoowah!\n",
      "\n",
      "48: Wahoo\n",
      "\n",
      "50: wah!\n",
      "\n",
      "51: Wahoo\n",
      "\n",
      "54: Wahoo\n",
      "\n",
      "55: wah!\n",
      "\n",
      "57: Wahoo\n",
      "\n",
      "60: Wahoowah!\n",
      "\n",
      "63: Wahoo\n",
      "\n",
      "65: wah!\n",
      "\n",
      "66: Wahoo\n",
      "\n",
      "69: Wahoo\n",
      "\n",
      "70: wah!\n",
      "\n",
      "72: Wahoo\n",
      "\n",
      "75: Wahoowah!\n",
      "\n",
      "78: Wahoo\n",
      "\n",
      "80: wah!\n",
      "\n",
      "81: Wahoo\n",
      "\n",
      "84: Wahoo\n",
      "\n",
      "85: wah!\n",
      "\n",
      "87: Wahoo\n",
      "\n",
      "90: Wahoowah!\n",
      "\n",
      "93: Wahoo\n",
      "\n",
      "95: wah!\n",
      "\n",
      "96: Wahoo\n",
      "\n",
      "99: Wahoo\n",
      "\n",
      "100: wah!\n",
      "\n",
      "Numbers divisible by 3 and not 5: 27\n",
      "Numbers divisible by 5 and not 3: 14\n",
      "Numbers divisible by both 3 and 5: 6\n",
      "Numbers divisible by neither 3 nor 5: 53\n"
     ]
    }
   ],
   "source": [
    "# I suspect this is some form of UVA reference but I don't know enough about sports to confirm\n",
    "# Decided to use elif and else for this one\n",
    "i=1\n",
    "mod3only=0\n",
    "mod5only=0\n",
    "mod3mod5=0\n",
    "nomods=0\n",
    "for i in range(1,101,1):\n",
    "    if i%3==0 and i%5!=0:\n",
    "        print(str(i) + ': Wahoo\\n')\n",
    "        mod3only += 1\n",
    "    elif i%3!=0 and i%5==0:\n",
    "        print(str(i) + ': wah!\\n')\n",
    "        mod5only += 1\n",
    "    elif i%3==0 and i%5==0:\n",
    "        print(str(i) + ': Wahoowah!\\n')\n",
    "        mod3mod5+= 1\n",
    "    else:\n",
    "        nomods+= 1\n",
    "print('Numbers divisible by 3 and not 5: ' + str(mod3only))\n",
    "print('Numbers divisible by 5 and not 3: ' + str(mod5only))\n",
    "print('Numbers divisible by both 3 and 5: ' + str(mod3mod5))\n",
    "print('Numbers divisible by neither 3 nor 5: ' + str(nomods))\n",
    "    "
   ]
  },
  {
   "cell_type": "markdown",
   "id": "eefd829e-9d2d-44b1-9268-4aa605c4e40d",
   "metadata": {
    "tags": []
   },
   "source": [
    "# Task 2\n",
    "\n",
    "(3 points)\n",
    "\n",
    "Rewrite the `for` loop as a `while` loop. \n",
    "\n",
    "This time, only print lines where both conditions are met. \n",
    "\n",
    "Include a final line which prints the number of times both conditions are met."
   ]
  },
  {
   "cell_type": "code",
   "execution_count": 5,
   "id": "704989f4-0d1b-457e-9179-6c080aa83f9d",
   "metadata": {},
   "outputs": [
    {
     "name": "stdout",
     "output_type": "stream",
     "text": [
      "15: Wahoowah!\n",
      "30: Wahoowah!\n",
      "45: Wahoowah!\n",
      "60: Wahoowah!\n",
      "75: Wahoowah!\n",
      "90: Wahoowah!\n",
      "For ints 1 to 100, there are 6 ints divisible by both 3 and 5.\n"
     ]
    }
   ],
   "source": [
    "# CODE\n",
    "#unsure if this means to print the lines including the number, or Wahoowah! I am going to do both\n",
    "mod3mod5while=0\n",
    "x=1\n",
    "while x < 101:\n",
    "    if x%3==0 and x%5==0:\n",
    "        print('{}: Wahoowah!'.format(x))\n",
    "        mod3mod5while +=1\n",
    "    x +=1\n",
    "\n",
    "print('For ints 1 to 100, there are ' + str(mod3mod5while) + ' ints divisible by both 3 and 5.')\n"
   ]
  },
  {
   "cell_type": "markdown",
   "id": "9cdb8762-4e13-4b71-bbde-9f6d7357aaec",
   "metadata": {
    "tags": []
   },
   "source": [
    "# Task 3\n",
    "\n",
    "(3 points)\n",
    "\n",
    "Write a list comprehension that iterates through the integers from $1$ to $100$ and returns a list containing the sum of the boolean values of the three conditions described in Task 1."
   ]
  },
  {
   "cell_type": "code",
   "execution_count": 6,
   "id": "af38602c-1e6e-4de0-906a-5c1e5d780b49",
   "metadata": {},
   "outputs": [
    {
     "name": "stdout",
     "output_type": "stream",
     "text": [
      "[0, 0, 1, 0, 1, 1, 0, 0, 1, 1, 0, 1, 0, 0, 1, 0, 0, 1, 0, 1, 1, 0, 0, 1, 1, 0, 1, 0, 0, 1, 0, 0, 1, 0, 1, 1, 0, 0, 1, 1, 0, 1, 0, 0, 1, 0, 0, 1, 0, 1, 1, 0, 0, 1, 1, 0, 1, 0, 0, 1, 0, 0, 1, 0, 1, 1, 0, 0, 1, 1, 0, 1, 0, 0, 1, 0, 0, 1, 0, 1, 1, 0, 0, 1, 1, 0, 1, 0, 0, 1, 0, 0, 1, 0, 1, 1, 0, 0, 1]\n"
     ]
    }
   ],
   "source": [
    "# CODE\n",
    "# 3 use cases: divisible by 3 and not 5, divisible by 5 and not 3, divisible by both th3 and 5. Only one of these can be true at one time, or none of them\n",
    "boolsum=[sum([val%3==0 and val%5!=0,val%3!=0 and val%5==0,val%3==0 and val%5==0])  for val in range(1,100,1)]\n",
    "print(boolsum)"
   ]
  },
  {
   "cell_type": "code",
   "execution_count": null,
   "id": "28d58060-ef60-4e91-bd39-da9cc3fb985c",
   "metadata": {},
   "outputs": [],
   "source": []
  }
 ],
 "metadata": {
  "kernelspec": {
   "display_name": "Python 3 (ipykernel)",
   "language": "python",
   "name": "python3"
  },
  "language_info": {
   "codemirror_mode": {
    "name": "ipython",
    "version": 3
   },
   "file_extension": ".py",
   "mimetype": "text/x-python",
   "name": "python",
   "nbconvert_exporter": "python",
   "pygments_lexer": "ipython3",
   "version": "3.10.6"
  },
  "widgets": {
   "application/vnd.jupyter.widget-state+json": {
    "state": {},
    "version_major": 2,
    "version_minor": 0
   }
  }
 },
 "nbformat": 4,
 "nbformat_minor": 5
}
