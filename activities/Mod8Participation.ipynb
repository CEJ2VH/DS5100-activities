{
 "cells": [
  {
   "cell_type": "code",
   "execution_count": 6,
   "id": "05ef14cb-510b-40fc-9bca-4332dbda220a",
   "metadata": {},
   "outputs": [
    {
     "name": "stdout",
     "output_type": "stream",
     "text": [
      "Issue. Error:  division by zero\n"
     ]
    }
   ],
   "source": [
    "try:\n",
    "    4/0\n",
    "except ZeroDivisionError as e:\n",
    "    print(\"Issue. Error: \", e)\n",
    "except:\n",
    "    print(\"error\")"
   ]
  },
  {
   "cell_type": "code",
   "execution_count": 7,
   "id": "c6dd70f0-1de0-4677-b59e-eca2cee393dd",
   "metadata": {},
   "outputs": [],
   "source": [
    "stmt1= True\n",
    "stmt2 = False\n",
    "\n",
    "assert stmt1 == True\n"
   ]
  },
  {
   "cell_type": "code",
   "execution_count": 9,
   "id": "93f41b0c-0772-479a-89f9-7055cd4de90c",
   "metadata": {},
   "outputs": [
    {
     "ename": "AssertionError",
     "evalue": "",
     "output_type": "error",
     "traceback": [
      "\u001b[1;31m---------------------------------------------------------------------------\u001b[0m",
      "\u001b[1;31mAssertionError\u001b[0m                            Traceback (most recent call last)",
      "Cell \u001b[1;32mIn[9], line 1\u001b[0m\n\u001b[1;32m----> 1\u001b[0m \u001b[38;5;28;01massert\u001b[39;00m stmt2\u001b[38;5;241m==\u001b[39m\u001b[38;5;28;01mTrue\u001b[39;00m\n",
      "\u001b[1;31mAssertionError\u001b[0m: "
     ]
    }
   ],
   "source": [
    "assert stmt2==True\n",
    "#oh I was suppoed to do something like x2=2+3=4 and then assert x2==True"
   ]
  },
  {
   "cell_type": "code",
   "execution_count": 12,
   "id": "7cb15b9d-3c9b-4cb6-8904-1e12b7373db7",
   "metadata": {},
   "outputs": [
    {
     "ename": "AssertionError",
     "evalue": "nice try!",
     "output_type": "error",
     "traceback": [
      "\u001b[1;31m---------------------------------------------------------------------------\u001b[0m",
      "\u001b[1;31mAssertionError\u001b[0m                            Traceback (most recent call last)",
      "Cell \u001b[1;32mIn[12], line 3\u001b[0m\n\u001b[0;32m      1\u001b[0m a1 \u001b[38;5;241m=\u001b[39m \u001b[38;5;241m1\u001b[39m\u001b[38;5;241m+\u001b[39m\u001b[38;5;241m2\u001b[39m\u001b[38;5;241m==\u001b[39m\u001b[38;5;241m3\u001b[39m\n\u001b[0;32m      2\u001b[0m a2\u001b[38;5;241m=\u001b[39m\u001b[38;5;241m2\u001b[39m\u001b[38;5;241m+\u001b[39m\u001b[38;5;241m2\u001b[39m\u001b[38;5;241m==\u001b[39m\u001b[38;5;241m5\u001b[39m\n\u001b[1;32m----> 3\u001b[0m \u001b[38;5;28;01massert\u001b[39;00m a1\u001b[38;5;241m==\u001b[39m\u001b[38;5;28;01mFalse\u001b[39;00m, \u001b[38;5;124m\"\u001b[39m\u001b[38;5;124mnice try!\u001b[39m\u001b[38;5;124m\"\u001b[39m\n",
      "\u001b[1;31mAssertionError\u001b[0m: nice try!"
     ]
    }
   ],
   "source": [
    "a1 = 1+2==3\n",
    "a2=2+2==5\n",
    "assert a1==False, \"nice try!\""
   ]
  },
  {
   "cell_type": "code",
   "execution_count": 13,
   "id": "23b728f3-312a-4c0d-9d89-207d6867fd0e",
   "metadata": {},
   "outputs": [],
   "source": [
    "import math"
   ]
  },
  {
   "cell_type": "code",
   "execution_count": 17,
   "id": "d43d29c5-92af-48aa-b2fa-a4e5a9f56b56",
   "metadata": {},
   "outputs": [
    {
     "data": {
      "text/plain": [
       "78.5"
      ]
     },
     "execution_count": 17,
     "metadata": {},
     "output_type": "execute_result"
    }
   ],
   "source": [
    "def area(radius):\n",
    "    area=radius**2 * 3.14\n",
    "    return area\n",
    "\n",
    "x=area(5)\n",
    "x"
   ]
  },
  {
   "cell_type": "code",
   "execution_count": 15,
   "id": "10b47fc7-6cba-4c87-8fe5-ddfe28e62f46",
   "metadata": {},
   "outputs": [],
   "source": [
    "assert type(area(1)) == float"
   ]
  },
  {
   "cell_type": "code",
   "execution_count": 16,
   "id": "74c8ac9c-95b6-424b-82f0-97c124eed606",
   "metadata": {},
   "outputs": [],
   "source": [
    "assert area(0) == 0"
   ]
  },
  {
   "cell_type": "code",
   "execution_count": 18,
   "id": "3089fd62-93c4-48c0-be32-0ec6c732a8e0",
   "metadata": {},
   "outputs": [],
   "source": [
    "assert math.isclose(area(5), 78.5, abs_tol=0.1),\"Nice try!\""
   ]
  },
  {
   "cell_type": "code",
   "execution_count": 20,
   "id": "f386f159-a8aa-4a0b-9927-ce9e097e3628",
   "metadata": {},
   "outputs": [
    {
     "ename": "AssertionError",
     "evalue": "Nice try! Not 5",
     "output_type": "error",
     "traceback": [
      "\u001b[1;31m---------------------------------------------------------------------------\u001b[0m",
      "\u001b[1;31mAssertionError\u001b[0m                            Traceback (most recent call last)",
      "Cell \u001b[1;32mIn[20], line 1\u001b[0m\n\u001b[1;32m----> 1\u001b[0m \u001b[38;5;28;01massert\u001b[39;00m math\u001b[38;5;241m.\u001b[39misclose(area(\u001b[38;5;241m7\u001b[39m), \u001b[38;5;241m78.5\u001b[39m, abs_tol\u001b[38;5;241m=\u001b[39m\u001b[38;5;241m0.1\u001b[39m),\u001b[38;5;124m\"\u001b[39m\u001b[38;5;124mNice try! Not 5\u001b[39m\u001b[38;5;124m\"\u001b[39m\n",
      "\u001b[1;31mAssertionError\u001b[0m: Nice try! Not 5"
     ]
    }
   ],
   "source": [
    "assert math.isclose(area(7), 78.5, abs_tol=0.1),\"Nice try! Not 5\"\n"
   ]
  },
  {
   "cell_type": "code",
   "execution_count": null,
   "id": "66d657b3-719e-4781-97e8-085a2afd744b",
   "metadata": {},
   "outputs": [],
   "source": [
    "import pandas as pd\n",
    "\n",
    "class Student:\n",
    "    \n",
    "    def __init__(self, name, courses): \n",
    "        self.name = student_name\n",
    "        self.courses = [] if courses is Non else courses\n",
    "        self.num_courses=len(self.courses)\n",
    "\n",
    "    def enroll_in_course(self, course_name):\n",
    "        self.courses.append(course,name)\n",
    "        self.num_courses +=1\n",
    "    \n",
    "    def unenroll(self, course.name):\n",
    "        if course_name in self.courses:\n",
    "            self.courses.remove(course_name)\n",
    "            self.num_courses -=1\n",
    "        else:\n",
    "            raise ValueError(\"Issue\")"
   ]
  },
  {
   "cell_type": "code",
   "execution_count": null,
   "id": "e58435d8-b41b-4100-9abc-a4b89e84961b",
   "metadata": {},
   "outputs": [],
   "source": [
    "#Had to copy paste, was having Github issues,\n",
    "#So I am still trying to resolve and cannot easily recreate my Github"
   ]
  },
  {
   "cell_type": "code",
   "execution_count": 21,
   "id": "1ec4ab7d-a690-4942-b783-55ec12294796",
   "metadata": {},
   "outputs": [
    {
     "ename": "ModuleNotFoundError",
     "evalue": "No module named 'Student'",
     "output_type": "error",
     "traceback": [
      "\u001b[1;31m---------------------------------------------------------------------------\u001b[0m",
      "\u001b[1;31mModuleNotFoundError\u001b[0m                       Traceback (most recent call last)",
      "Cell \u001b[1;32mIn[21], line 1\u001b[0m\n\u001b[1;32m----> 1\u001b[0m \u001b[38;5;28;01mfrom\u001b[39;00m \u001b[38;5;21;01mStudent\u001b[39;00m \u001b[38;5;28;01mimport\u001b[39;00m Student\n",
      "\u001b[1;31mModuleNotFoundError\u001b[0m: No module named 'Student'"
     ]
    }
   ],
   "source": [
    "from Student import Student"
   ]
  },
  {
   "cell_type": "code",
   "execution_count": null,
   "id": "ce5c0ddc-0030-4400-ae5a-f98328ac4b6c",
   "metadata": {},
   "outputs": [],
   "source": [
    "#test1 should check if the incrementer works\n",
    "#test2 tests if a course is actually removed\n",
    "#test3 tests if the new method does not increment coureses if the student was not enrolled to begin with"
   ]
  },
  {
   "cell_type": "code",
   "execution_count": 22,
   "id": "e1a5e22a-0d97-4461-ba58-2a3ed9b88aad",
   "metadata": {},
   "outputs": [
    {
     "ename": "NameError",
     "evalue": "name 'Student' is not defined",
     "output_type": "error",
     "traceback": [
      "\u001b[1;31m---------------------------------------------------------------------------\u001b[0m",
      "\u001b[1;31mNameError\u001b[0m                                 Traceback (most recent call last)",
      "Cell \u001b[1;32mIn[22], line 2\u001b[0m\n\u001b[0;32m      1\u001b[0m courses\u001b[38;5;241m=\u001b[39m[\u001b[38;5;124m\"\u001b[39m\u001b[38;5;124mMath\u001b[39m\u001b[38;5;124m\"\u001b[39m,\u001b[38;5;124m\"\u001b[39m\u001b[38;5;124mLanguage\u001b[39m\u001b[38;5;124m\"\u001b[39m,\u001b[38;5;124m\"\u001b[39m\u001b[38;5;124mScience\u001b[39m\u001b[38;5;124m\"\u001b[39m]\n\u001b[1;32m----> 2\u001b[0m stud1\u001b[38;5;241m=\u001b[39m\u001b[43mStudent\u001b[49m(\u001b[38;5;124m\"\u001b[39m\u001b[38;5;124mAlice\u001b[39m\u001b[38;5;124m\"\u001b[39m,courses)\n",
      "\u001b[1;31mNameError\u001b[0m: name 'Student' is not defined"
     ]
    }
   ],
   "source": [
    "courses=[\"Math\",\"Language\",\"Science\"]\n",
    "stud1=Student(\"Alice\",courses)"
   ]
  },
  {
   "cell_type": "code",
   "execution_count": 23,
   "id": "46b2c500-d4fd-494e-96e4-593b9b84e2f1",
   "metadata": {},
   "outputs": [],
   "source": [
    "import unittest"
   ]
  },
  {
   "cell_type": "code",
   "execution_count": null,
   "id": "8e63c33e-1b20-4f1e-8037-20cc08496075",
   "metadata": {},
   "outputs": [],
   "source": [
    "# will try and figure out Github issues later"
   ]
  }
 ],
 "metadata": {
  "kernelspec": {
   "display_name": "Python 3 (ipykernel)",
   "language": "python",
   "name": "python3"
  },
  "language_info": {
   "codemirror_mode": {
    "name": "ipython",
    "version": 3
   },
   "file_extension": ".py",
   "mimetype": "text/x-python",
   "name": "python",
   "nbconvert_exporter": "python",
   "pygments_lexer": "ipython3",
   "version": "3.10.6"
  }
 },
 "nbformat": 4,
 "nbformat_minor": 5
}
