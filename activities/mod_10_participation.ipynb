{
 "cells": [
  {
   "cell_type": "code",
   "execution_count": 1,
   "id": "7da361d6-3e25-4425-a248-e8e9aa28441e",
   "metadata": {
    "tags": []
   },
   "outputs": [
    {
     "data": {
      "text/html": [
       "<style>\n",
       ".list-inline {list-style: none; margin:0; padding: 0}\n",
       ".list-inline>li {display: inline-block}\n",
       ".list-inline>li:not(:last-child)::after {content: \"\\00b7\"; padding: 0 .5ex}\n",
       "</style>\n",
       "<ol class=list-inline><li>1</li><li>4</li><li>5</li><li>7</li><li>8</li></ol>\n"
      ],
      "text/latex": [
       "\\begin{enumerate*}\n",
       "\\item 1\n",
       "\\item 4\n",
       "\\item 5\n",
       "\\item 7\n",
       "\\item 8\n",
       "\\end{enumerate*}\n"
      ],
      "text/markdown": [
       "1. 1\n",
       "2. 4\n",
       "3. 5\n",
       "4. 7\n",
       "5. 8\n",
       "\n",
       "\n"
      ],
      "text/plain": [
       "[1] 1 4 5 7 8"
      ]
     },
     "metadata": {},
     "output_type": "display_data"
    }
   ],
   "source": [
    "test <- c(1,4,5,7,8)\n",
    "test"
   ]
  },
  {
   "cell_type": "code",
   "execution_count": 10,
   "id": "b47ff87a-72db-4da3-8a95-33eee79f8fe8",
   "metadata": {
    "tags": []
   },
   "outputs": [],
   "source": [
    "fibonacci <-numeric(10)\n",
    "fibonacci[1] <- fibonacci[2] <-1\n",
    "for (i in 3:10){\n",
    "fibonacci[i] <-fibonacci[i-2] + fibonacci[i-1]}"
   ]
  },
  {
   "cell_type": "code",
   "execution_count": 11,
   "id": "8f531b7b-bc75-4a3c-88d0-ea17de65d64e",
   "metadata": {
    "tags": []
   },
   "outputs": [
    {
     "data": {
      "text/html": [
       "<style>\n",
       ".list-inline {list-style: none; margin:0; padding: 0}\n",
       ".list-inline>li {display: inline-block}\n",
       ".list-inline>li:not(:last-child)::after {content: \"\\00b7\"; padding: 0 .5ex}\n",
       "</style>\n",
       "<ol class=list-inline><li>1</li><li>1</li><li>2</li><li>3</li><li>5</li><li>8</li><li>13</li><li>21</li><li>34</li><li>55</li></ol>\n"
      ],
      "text/latex": [
       "\\begin{enumerate*}\n",
       "\\item 1\n",
       "\\item 1\n",
       "\\item 2\n",
       "\\item 3\n",
       "\\item 5\n",
       "\\item 8\n",
       "\\item 13\n",
       "\\item 21\n",
       "\\item 34\n",
       "\\item 55\n",
       "\\end{enumerate*}\n"
      ],
      "text/markdown": [
       "1. 1\n",
       "2. 1\n",
       "3. 2\n",
       "4. 3\n",
       "5. 5\n",
       "6. 8\n",
       "7. 13\n",
       "8. 21\n",
       "9. 34\n",
       "10. 55\n",
       "\n",
       "\n"
      ],
      "text/plain": [
       " [1]  1  1  2  3  5  8 13 21 34 55"
      ]
     },
     "metadata": {},
     "output_type": "display_data"
    }
   ],
   "source": [
    "fibonacci"
   ]
  },
  {
   "cell_type": "code",
   "execution_count": 16,
   "id": "a24aa421-0f6f-402e-8d3c-b5a02a7dc9ee",
   "metadata": {
    "tags": []
   },
   "outputs": [
    {
     "data": {
      "text/html": [
       "<style>\n",
       ".list-inline {list-style: none; margin:0; padding: 0}\n",
       ".list-inline>li {display: inline-block}\n",
       ".list-inline>li:not(:last-child)::after {content: \"\\00b7\"; padding: 0 .5ex}\n",
       "</style>\n",
       "<ol class=list-inline><li>1</li><li>1</li><li>2</li><li>3</li><li>5</li><li>8</li><li>13</li><li>21</li><li>34</li><li>55</li></ol>\n"
      ],
      "text/latex": [
       "\\begin{enumerate*}\n",
       "\\item 1\n",
       "\\item 1\n",
       "\\item 2\n",
       "\\item 3\n",
       "\\item 5\n",
       "\\item 8\n",
       "\\item 13\n",
       "\\item 21\n",
       "\\item 34\n",
       "\\item 55\n",
       "\\end{enumerate*}\n"
      ],
      "text/markdown": [
       "1. 1\n",
       "2. 1\n",
       "3. 2\n",
       "4. 3\n",
       "5. 5\n",
       "6. 8\n",
       "7. 13\n",
       "8. 21\n",
       "9. 34\n",
       "10. 55\n",
       "\n",
       "\n"
      ],
      "text/plain": [
       " [1]  1  1  2  3  5  8 13 21 34 55"
      ]
     },
     "metadata": {},
     "output_type": "display_data"
    }
   ],
   "source": [
    "# Function to print the Fibonacci sequence using a loop\n",
    "print_fibonacci <- function(n) {\n",
    "fib <-numeric(n)\n",
    " fib[1] <- fib[2] <-1\n",
    "    for (i in 3:n){\n",
    "fib[i] <-fib[i-2] + fib[i-1]}\n",
    "    return(fib)\n",
    "}\n",
    " \n",
    "# Example usage\n",
    "number_of_terms <- 10\n",
    "print_fibonacci(number_of_terms)\n"
   ]
  },
  {
   "cell_type": "code",
   "execution_count": 17,
   "id": "d1777355-bb86-406a-ac01-00e70b867b59",
   "metadata": {
    "tags": []
   },
   "outputs": [],
   "source": [
    "fib20=print_fibonacci(20)"
   ]
  },
  {
   "cell_type": "code",
   "execution_count": 18,
   "id": "59573e44-0907-4ab0-807f-f6313c138f28",
   "metadata": {
    "tags": []
   },
   "outputs": [
    {
     "data": {
      "text/html": [
       "<style>\n",
       ".list-inline {list-style: none; margin:0; padding: 0}\n",
       ".list-inline>li {display: inline-block}\n",
       ".list-inline>li:not(:last-child)::after {content: \"\\00b7\"; padding: 0 .5ex}\n",
       "</style>\n",
       "<ol class=list-inline><li>1</li><li>1</li><li>2</li><li>3</li><li>5</li><li>8</li><li>13</li><li>21</li><li>34</li><li>55</li><li>89</li><li>144</li><li>233</li><li>377</li><li>610</li><li>987</li><li>1597</li><li>2584</li><li>4181</li><li>6765</li></ol>\n"
      ],
      "text/latex": [
       "\\begin{enumerate*}\n",
       "\\item 1\n",
       "\\item 1\n",
       "\\item 2\n",
       "\\item 3\n",
       "\\item 5\n",
       "\\item 8\n",
       "\\item 13\n",
       "\\item 21\n",
       "\\item 34\n",
       "\\item 55\n",
       "\\item 89\n",
       "\\item 144\n",
       "\\item 233\n",
       "\\item 377\n",
       "\\item 610\n",
       "\\item 987\n",
       "\\item 1597\n",
       "\\item 2584\n",
       "\\item 4181\n",
       "\\item 6765\n",
       "\\end{enumerate*}\n"
      ],
      "text/markdown": [
       "1. 1\n",
       "2. 1\n",
       "3. 2\n",
       "4. 3\n",
       "5. 5\n",
       "6. 8\n",
       "7. 13\n",
       "8. 21\n",
       "9. 34\n",
       "10. 55\n",
       "11. 89\n",
       "12. 144\n",
       "13. 233\n",
       "14. 377\n",
       "15. 610\n",
       "16. 987\n",
       "17. 1597\n",
       "18. 2584\n",
       "19. 4181\n",
       "20. 6765\n",
       "\n",
       "\n"
      ],
      "text/plain": [
       " [1]    1    1    2    3    5    8   13   21   34   55   89  144  233  377  610\n",
       "[16]  987 1597 2584 4181 6765"
      ]
     },
     "metadata": {},
     "output_type": "display_data"
    }
   ],
   "source": [
    "fib20"
   ]
  },
  {
   "cell_type": "code",
   "execution_count": 26,
   "id": "f823f341-5418-480f-ab6e-019bad168776",
   "metadata": {
    "tags": []
   },
   "outputs": [],
   "source": [
    "pos_x <- function(n) {\n",
    "\n",
    "if(n>0 & n <1) {\n",
    "return(1)\n",
    "}\n",
    "  else {return(0)}\n",
    "}"
   ]
  },
  {
   "cell_type": "code",
   "execution_count": 27,
   "id": "f28f6cfd-5d2b-4ae6-8c70-8e3969a3fb2c",
   "metadata": {
    "tags": []
   },
   "outputs": [
    {
     "data": {
      "text/html": [
       "0"
      ],
      "text/latex": [
       "0"
      ],
      "text/markdown": [
       "0"
      ],
      "text/plain": [
       "[1] 0"
      ]
     },
     "metadata": {},
     "output_type": "display_data"
    }
   ],
   "source": [
    "pos_x(2)"
   ]
  },
  {
   "cell_type": "code",
   "execution_count": 28,
   "id": "b39e40cd-33ce-42e8-a215-8776fa6055d9",
   "metadata": {
    "tags": []
   },
   "outputs": [
    {
     "data": {
      "text/html": [
       "1"
      ],
      "text/latex": [
       "1"
      ],
      "text/markdown": [
       "1"
      ],
      "text/plain": [
       "[1] 1"
      ]
     },
     "metadata": {},
     "output_type": "display_data"
    }
   ],
   "source": [
    "pos_x(.45)"
   ]
  },
  {
   "cell_type": "code",
   "execution_count": 29,
   "id": "c4d7b513-9d83-4182-b1ea-f6bb11b839ef",
   "metadata": {
    "tags": []
   },
   "outputs": [
    {
     "data": {
      "text/html": [
       "0"
      ],
      "text/latex": [
       "0"
      ],
      "text/markdown": [
       "0"
      ],
      "text/plain": [
       "[1] 0"
      ]
     },
     "metadata": {},
     "output_type": "display_data"
    }
   ],
   "source": [
    "pos_x(-2.5)"
   ]
  },
  {
   "cell_type": "code",
   "execution_count": 30,
   "id": "1f15d065-11a9-4fb1-b16f-41f8781c4b4c",
   "metadata": {
    "tags": []
   },
   "outputs": [
    {
     "data": {
      "text/html": [
       "0"
      ],
      "text/latex": [
       "0"
      ],
      "text/markdown": [
       "0"
      ],
      "text/plain": [
       "[1] 0"
      ]
     },
     "metadata": {},
     "output_type": "display_data"
    }
   ],
   "source": [
    "pos_x(100)"
   ]
  },
  {
   "cell_type": "code",
   "execution_count": 31,
   "id": "8b14d823-b07c-4c91-b8f0-f370bd174316",
   "metadata": {
    "tags": []
   },
   "outputs": [
    {
     "data": {
      "text/html": [
       "1"
      ],
      "text/latex": [
       "1"
      ],
      "text/markdown": [
       "1"
      ],
      "text/plain": [
       "[1] 1"
      ]
     },
     "metadata": {},
     "output_type": "display_data"
    }
   ],
   "source": [
    "pos_x(.0001)"
   ]
  },
  {
   "cell_type": "code",
   "execution_count": 36,
   "id": "d52fe2e3-78c3-464c-b280-4b2e3d64dd52",
   "metadata": {
    "tags": []
   },
   "outputs": [
    {
     "data": {
      "text/html": [
       "<style>\n",
       ".list-inline {list-style: none; margin:0; padding: 0}\n",
       ".list-inline>li {display: inline-block}\n",
       ".list-inline>li:not(:last-child)::after {content: \"\\00b7\"; padding: 0 .5ex}\n",
       "</style>\n",
       "<ol class=list-inline><li>'a'</li><li>'b'</li><li>'c'</li><li>'d'</li><li>'e'</li><li>'f'</li><li>'g'</li><li>'h'</li><li>'i'</li><li>'j'</li></ol>\n"
      ],
      "text/latex": [
       "\\begin{enumerate*}\n",
       "\\item 'a'\n",
       "\\item 'b'\n",
       "\\item 'c'\n",
       "\\item 'd'\n",
       "\\item 'e'\n",
       "\\item 'f'\n",
       "\\item 'g'\n",
       "\\item 'h'\n",
       "\\item 'i'\n",
       "\\item 'j'\n",
       "\\end{enumerate*}\n"
      ],
      "text/markdown": [
       "1. 'a'\n",
       "2. 'b'\n",
       "3. 'c'\n",
       "4. 'd'\n",
       "5. 'e'\n",
       "6. 'f'\n",
       "7. 'g'\n",
       "8. 'h'\n",
       "9. 'i'\n",
       "10. 'j'\n",
       "\n",
       "\n"
      ],
      "text/plain": [
       " [1] \"a\" \"b\" \"c\" \"d\" \"e\" \"f\" \"g\" \"h\" \"i\" \"j\""
      ]
     },
     "metadata": {},
     "output_type": "display_data"
    }
   ],
   "source": [
    "letters[1:10]"
   ]
  },
  {
   "cell_type": "code",
   "execution_count": 37,
   "id": "79dbd81f-a450-41db-82e5-f01fda45a583",
   "metadata": {
    "tags": []
   },
   "outputs": [
    {
     "data": {
      "text/html": [
       "<style>\n",
       ".list-inline {list-style: none; margin:0; padding: 0}\n",
       ".list-inline>li {display: inline-block}\n",
       ".list-inline>li:not(:last-child)::after {content: \"\\00b7\"; padding: 0 .5ex}\n",
       "</style>\n",
       "<ol class=list-inline><li>'P'</li><li>'Q'</li><li>'R'</li><li>'S'</li><li>'T'</li><li>'U'</li><li>'V'</li><li>'W'</li><li>'X'</li><li>'Y'</li><li>'Z'</li></ol>\n"
      ],
      "text/latex": [
       "\\begin{enumerate*}\n",
       "\\item 'P'\n",
       "\\item 'Q'\n",
       "\\item 'R'\n",
       "\\item 'S'\n",
       "\\item 'T'\n",
       "\\item 'U'\n",
       "\\item 'V'\n",
       "\\item 'W'\n",
       "\\item 'X'\n",
       "\\item 'Y'\n",
       "\\item 'Z'\n",
       "\\end{enumerate*}\n"
      ],
      "text/markdown": [
       "1. 'P'\n",
       "2. 'Q'\n",
       "3. 'R'\n",
       "4. 'S'\n",
       "5. 'T'\n",
       "6. 'U'\n",
       "7. 'V'\n",
       "8. 'W'\n",
       "9. 'X'\n",
       "10. 'Y'\n",
       "11. 'Z'\n",
       "\n",
       "\n"
      ],
      "text/plain": [
       " [1] \"P\" \"Q\" \"R\" \"S\" \"T\" \"U\" \"V\" \"W\" \"X\" \"Y\" \"Z\""
      ]
     },
     "metadata": {},
     "output_type": "display_data"
    }
   ],
   "source": [
    "LETTERS[16:26]"
   ]
  },
  {
   "cell_type": "code",
   "execution_count": 38,
   "id": "1e4ca334-01b6-4e27-b65b-c5f19af10a60",
   "metadata": {
    "tags": []
   },
   "outputs": [
    {
     "data": {
      "text/html": [
       "<style>\n",
       ".list-inline {list-style: none; margin:0; padding: 0}\n",
       ".list-inline>li {display: inline-block}\n",
       ".list-inline>li:not(:last-child)::after {content: \"\\00b7\"; padding: 0 .5ex}\n",
       "</style>\n",
       "<ol class=list-inline><li>'V'</li><li>'W'</li><li>'X'</li></ol>\n"
      ],
      "text/latex": [
       "\\begin{enumerate*}\n",
       "\\item 'V'\n",
       "\\item 'W'\n",
       "\\item 'X'\n",
       "\\end{enumerate*}\n"
      ],
      "text/markdown": [
       "1. 'V'\n",
       "2. 'W'\n",
       "3. 'X'\n",
       "\n",
       "\n"
      ],
      "text/plain": [
       "[1] \"V\" \"W\" \"X\""
      ]
     },
     "metadata": {},
     "output_type": "display_data"
    }
   ],
   "source": [
    "LETTERS[22:24]"
   ]
  },
  {
   "cell_type": "code",
   "execution_count": 41,
   "id": "b9f31f5d-7610-445e-8498-85da5c962c7b",
   "metadata": {
    "tags": []
   },
   "outputs": [
    {
     "name": "stdout",
     "output_type": "stream",
     "text": [
      "[1] \"3 fizz\"\n",
      "[1] \"5 buzz\"\n",
      "[1] \"6 fizz\"\n",
      "[1] \"9 fizz\"\n",
      "[1] \"10 buzz\"\n",
      "[1] \"12 fizz\"\n",
      "[1] \"15 fizzbuzz\"\n",
      "[1] \"18 fizz\"\n",
      "[1] \"20 buzz\"\n",
      "[1] \"21 fizz\"\n",
      "[1] \"24 fizz\"\n",
      "[1] \"25 buzz\"\n",
      "[1] \"27 fizz\"\n",
      "[1] \"30 fizzbuzz\"\n",
      "[1] \"33 fizz\"\n",
      "[1] \"35 buzz\"\n",
      "[1] \"36 fizz\"\n",
      "[1] \"39 fizz\"\n",
      "[1] \"40 buzz\"\n",
      "[1] \"42 fizz\"\n",
      "[1] \"45 fizzbuzz\"\n",
      "[1] \"48 fizz\"\n",
      "[1] \"50 buzz\"\n",
      "[1] \"51 fizz\"\n",
      "[1] \"54 fizz\"\n",
      "[1] \"55 buzz\"\n",
      "[1] \"57 fizz\"\n",
      "[1] \"60 fizzbuzz\"\n",
      "[1] \"63 fizz\"\n",
      "[1] \"65 buzz\"\n",
      "[1] \"66 fizz\"\n",
      "[1] \"69 fizz\"\n",
      "[1] \"70 buzz\"\n",
      "[1] \"72 fizz\"\n",
      "[1] \"75 fizzbuzz\"\n",
      "[1] \"78 fizz\"\n",
      "[1] \"80 buzz\"\n",
      "[1] \"81 fizz\"\n",
      "[1] \"84 fizz\"\n",
      "[1] \"85 buzz\"\n",
      "[1] \"87 fizz\"\n",
      "[1] \"90 fizzbuzz\"\n",
      "[1] \"93 fizz\"\n",
      "[1] \"95 buzz\"\n",
      "[1] \"96 fizz\"\n",
      "[1] \"99 fizz\"\n",
      "[1] \"100 buzz\"\n"
     ]
    }
   ],
   "source": [
    "for (i in 1:100){\n",
    "    if (i%%3 ==0 && i %%5 ==0) {print(paste(i,'fizzbuzz'))}\n",
    "    else if (i%%3 ==0) {print(paste(i,'fizz'))}\n",
    "    else if (i%%5 ==0) {print(paste(i,'buzz'))}\n",
    "    }"
   ]
  },
  {
   "cell_type": "code",
   "execution_count": null,
   "id": "68d08e36-177a-4600-8d6e-4c7d50321d8e",
   "metadata": {},
   "outputs": [],
   "source": []
  }
 ],
 "metadata": {
  "kernelspec": {
   "display_name": "R 4.4.1",
   "language": "R",
   "name": "r-4.4.1"
  },
  "language_info": {
   "codemirror_mode": "r",
   "file_extension": ".r",
   "mimetype": "text/x-r-source",
   "name": "R",
   "pygments_lexer": "r",
   "version": "4.4.1"
  }
 },
 "nbformat": 4,
 "nbformat_minor": 5
}
