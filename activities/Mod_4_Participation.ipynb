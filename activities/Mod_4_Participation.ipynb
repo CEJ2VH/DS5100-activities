{
 "cells": [
  {
   "cell_type": "markdown",
   "id": "7d9474b5-1732-43b2-b4eb-882ac0a1bf92",
   "metadata": {},
   "source": [
    "I forget if I was supposed to do something else with this, but we firstly checked the length of a string against an int"
   ]
  },
  {
   "cell_type": "code",
   "execution_count": 10,
   "id": "c46c61fc-46ba-4ac3-bcfd-d9a3f57f7e4c",
   "metadata": {},
   "outputs": [
    {
     "data": {
      "text/plain": [
       "True"
      ]
     },
     "execution_count": 10,
     "metadata": {},
     "output_type": "execute_result"
    }
   ],
   "source": [
    "def stringtest(astr, anint):\n",
    "    if len(astr)==anint:\n",
    "        return True\n",
    "    else:\n",
    "        return False\n",
    "\n",
    "stringtest('test2',5)\n",
    "#stringtest('test3',6)"
   ]
  },
  {
   "cell_type": "markdown",
   "id": "9de6406e-9929-44c9-a4b1-a453e290e01f",
   "metadata": {},
   "source": [
    "Func that uses *args, squares each arg then prints the value, reutrns num. Call, passing at least two"
   ]
  },
  {
   "cell_type": "code",
   "execution_count": 33,
   "id": "2cbf4579-f59e-4ce3-8a60-2110a11e1509",
   "metadata": {},
   "outputs": [
    {
     "name": "stdout",
     "output_type": "stream",
     "text": [
      "1\n",
      "9\n",
      "25\n",
      "Not a number!\n"
     ]
    }
   ],
   "source": [
    "def squareargs(*manyargs):\n",
    "    for arg in manyargs:\n",
    "        if type(arg)==int or type(arg)==float:\n",
    "            print(str(arg*arg))\n",
    "        else: \n",
    "            print('Not a number!')\n",
    "\n",
    "     \n",
    "\n",
    "\n",
    "squareargs(1,3,5,'test')\n"
   ]
  },
  {
   "cell_type": "markdown",
   "id": "59e4c4a8-859b-48f3-a729-93468ce8603e",
   "metadata": {},
   "source": [
    "Make a numeronum, where we take a string, capitalize the first and last letters, and replace the"
   ]
  },
  {
   "cell_type": "code",
   "execution_count": 28,
   "id": "5669453c-1e9e-46d4-9e60-e7c78104eca9",
   "metadata": {},
   "outputs": [
    {
     "name": "stdout",
     "output_type": "stream",
     "text": [
      "D18T\n"
     ]
    }
   ],
   "source": [
    "def makenumeronym(numeronym):\n",
    "    if type(numeronym)!=str:\n",
    "        print('Not a string!')\n",
    "    else:\n",
    "        charone=numeronym[0].upper()\n",
    "        charlast=numeronym[-1].upper()\n",
    "        middle=len(numeronym[1:-1])\n",
    "        print(charone+str(middle)+charlast)\n",
    "\n",
    "makenumeronym('Does this work? Test')"
   ]
  },
  {
   "cell_type": "code",
   "execution_count": null,
   "id": "434b63ff-15bc-40f3-9b4c-fdc8fc49dc02",
   "metadata": {},
   "outputs": [],
   "source": [
    "Function: takes one numeric as input, float or int, subtract 5 from value, return 1 if diff is nonnet, else return 0"
   ]
  },
  {
   "cell_type": "code",
   "execution_count": 32,
   "id": "89819ad1-60da-4cc4-badd-dcb3a8478ade",
   "metadata": {},
   "outputs": [
    {
     "data": {
      "text/plain": [
       "0"
      ]
     },
     "execution_count": 32,
     "metadata": {},
     "output_type": "execute_result"
    }
   ],
   "source": [
    "def subfive(intflt):\n",
    "    if type(intflt) != int and type(intflt) != float:\n",
    "        print('Not a number! Jail!')\n",
    "    else:\n",
    "        val=intflt-5\n",
    "        if val>0:\n",
    "            return 1\n",
    "        return 0\n",
    "\n",
    "subfive(3)"
   ]
  },
  {
   "cell_type": "markdown",
   "id": "42cf9bfd-ab67-4dbe-bddf-0a5fa4a30f57",
   "metadata": {},
   "source": [
    "Function that defines and prints variable called secret x. Show you get an error when calling it outside"
   ]
  },
  {
   "cell_type": "code",
   "execution_count": 34,
   "id": "4284a86c-8b42-4ce9-ac84-556e6d51a79b",
   "metadata": {},
   "outputs": [
    {
     "name": "stdout",
     "output_type": "stream",
     "text": [
      "My secret is I am a billionare wizard\n"
     ]
    }
   ],
   "source": [
    "def ihaveasecret():\n",
    "    secret_x='My secret is I am a billionare wizard'\n",
    "    print(secret_x)\n",
    "\n",
    "ihaveasecret()"
   ]
  },
  {
   "cell_type": "code",
   "execution_count": 35,
   "id": "4fc3d3c1-af05-4189-832a-7efc62446c25",
   "metadata": {},
   "outputs": [
    {
     "ename": "NameError",
     "evalue": "name 'secret_x' is not defined",
     "output_type": "error",
     "traceback": [
      "\u001b[1;31m---------------------------------------------------------------------------\u001b[0m",
      "\u001b[1;31mNameError\u001b[0m                                 Traceback (most recent call last)",
      "Cell \u001b[1;32mIn[35], line 1\u001b[0m\n\u001b[1;32m----> 1\u001b[0m \u001b[38;5;28mprint\u001b[39m(\u001b[43msecret_x\u001b[49m)\n",
      "\u001b[1;31mNameError\u001b[0m: name 'secret_x' is not defined"
     ]
    }
   ],
   "source": [
    "print(secret_x)"
   ]
  },
  {
   "cell_type": "markdown",
   "id": "69fe54b0-2710-45a4-89b4-25335c86c91e",
   "metadata": {},
   "source": [
    "Guessing if we can know the scope of code block vars, no code"
   ]
  },
  {
   "cell_type": "markdown",
   "id": "e992d792-aacc-4457-aa04-b4002d3b9105",
   "metadata": {},
   "source": [
    "1) gonna throw an error, no definition of x1\n",
    "2) Going to print x2, since we are calling the function(globally defined) not the local var\n",
    "3) Still going to print 5, once in the function x2 is assigned to 5 in the local scope\n",
    "4) prints 5, then 7\n",
    "5) error, would be a 9, then a 9\n",
    "6)5,9,5,9"
   ]
  },
  {
   "cell_type": "markdown",
   "id": "9cb7f9fb-0e08-47e7-baa5-20e864f0f855",
   "metadata": {},
   "source": [
    "lambda to check range of x between 10 and 25"
   ]
  },
  {
   "cell_type": "code",
   "execution_count": 37,
   "id": "44abd6b6-790d-41ff-b481-39020006c2fd",
   "metadata": {},
   "outputs": [
    {
     "data": {
      "text/plain": [
       "True"
      ]
     },
     "execution_count": 37,
     "metadata": {},
     "output_type": "execute_result"
    }
   ],
   "source": [
    "range=lambda x: x>=10 & x<=25\n",
    "#range(17)\n",
    "range(8)"
   ]
  },
  {
   "cell_type": "markdown",
   "id": "3ef901c5-70f6-43ca-8956-367412236355",
   "metadata": {},
   "source": [
    "DIDN'T get to this one: lambda functions that 1) converts C to F temp, f to C temp, and one that does both"
   ]
  },
  {
   "cell_type": "code",
   "execution_count": null,
   "id": "a2e2dd92-d6de-456b-8888-b302275ce519",
   "metadata": {},
   "outputs": [],
   "source": [
    "c2f = lambda cval: 1.8 * cval +32\n",
    "f2c = lambda fval: (fval-32)/1.8\n",
    "#then another one\n",
    "#could also use a dictionary of lambda functions (with c and f) as key and we can pass those dict values to evaluate the result"
   ]
  }
 ],
 "metadata": {
  "kernelspec": {
   "display_name": "Python 3 (ipykernel)",
   "language": "python",
   "name": "python3"
  },
  "language_info": {
   "codemirror_mode": {
    "name": "ipython",
    "version": 3
   },
   "file_extension": ".py",
   "mimetype": "text/x-python",
   "name": "python",
   "nbconvert_exporter": "python",
   "pygments_lexer": "ipython3",
   "version": "3.10.6"
  }
 },
 "nbformat": 4,
 "nbformat_minor": 5
}
