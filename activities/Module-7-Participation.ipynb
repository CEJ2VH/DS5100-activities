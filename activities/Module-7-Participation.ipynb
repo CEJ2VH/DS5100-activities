{
 "cells": [
  {
   "cell_type": "markdown",
   "id": "ec914189-f245-41db-8581-429d7daef47f",
   "metadata": {},
   "source": [
    "Ex. 1- MyClass with docstring, attribute att1 with default value foo"
   ]
  },
  {
   "cell_type": "code",
   "execution_count": 26,
   "id": "deacf4e2-0d03-40b5-abaa-7be1451f687d",
   "metadata": {},
   "outputs": [],
   "source": [
    "class MyClass():\n",
    "    att1='foo'\n",
    "    def __init__(self, att2):\n",
    "        self.att2 = att2\n",
    "\n",
    "    def add(self):\n",
    "        self.con = str(att1)+str(self.att2)\n",
    "        print(self.con)"
   ]
  },
  {
   "cell_type": "code",
   "execution_count": 25,
   "id": "60833cba-a21e-4dff-b84b-cc52458dd9a0",
   "metadata": {},
   "outputs": [],
   "source": [
    "import pandas as pd"
   ]
  },
  {
   "cell_type": "markdown",
   "id": "d8d25402-be0e-4e39-93d7-32d3813da7b1",
   "metadata": {},
   "source": [
    "Create an object and pass a short sentence, then use object.attribute"
   ]
  },
  {
   "cell_type": "code",
   "execution_count": 27,
   "id": "e7ff9a9e-4225-4a0e-8b87-6691ecb51449",
   "metadata": {},
   "outputs": [],
   "source": [
    "x=MyClass('To sit in solemn silence')"
   ]
  },
  {
   "cell_type": "code",
   "execution_count": 23,
   "id": "13c06c85-08e2-40b1-86e7-aa84576db7f3",
   "metadata": {},
   "outputs": [
    {
     "data": {
      "text/plain": [
       "('foo', 'To sit in solemn silence')"
      ]
     },
     "execution_count": 23,
     "metadata": {},
     "output_type": "execute_result"
    }
   ],
   "source": [
    "x.att1, x.att2"
   ]
  },
  {
   "cell_type": "code",
   "execution_count": 28,
   "id": "2f90f3d2-ceb0-45de-bc74-3ad573286b08",
   "metadata": {},
   "outputs": [
    {
     "name": "stdout",
     "output_type": "stream",
     "text": [
      "fooTo sit in solemn silence\n"
     ]
    }
   ],
   "source": [
    "x.add()"
   ]
  },
  {
   "cell_type": "markdown",
   "id": "4e04d72a-d417-40bf-9017-108d57035386",
   "metadata": {},
   "source": []
  },
  {
   "cell_type": "markdown",
   "id": "40012cdb-8c5e-4f1e-afce-088e48c95f11",
   "metadata": {},
   "source": [
    "Make a student class that has grades for a given class, can have "
   ]
  },
  {
   "cell_type": "code",
   "execution_count": 40,
   "id": "c3d819c3-156d-4952-a272-e2861b5cbc3a",
   "metadata": {},
   "outputs": [],
   "source": [
    "\n",
    "class student():\n",
    "    def __init__(self, name, ID):\n",
    "        self.ID = ID\n",
    "        self.name=name\n",
    "        self.grades=pd.Series(dtype=float)\n",
    "         \n",
    "    def add_work(self, assignment, grade):\n",
    "        self.grades.loc[assignment]=grade\n",
    "    def plot_grades(self):\n",
    "       self.grades.plot.bar(title=f\"Grades for {self.name} ({self.ID})\")"
   ]
  },
  {
   "cell_type": "markdown",
   "id": "aa4b5871-bfaf-430e-b4c6-b43e38cf0a3d",
   "metadata": {},
   "source": [
    "make a student with four grades"
   ]
  },
  {
   "cell_type": "code",
   "execution_count": 41,
   "id": "91cd7e23-d0a8-4716-973e-cf4320abf8a9",
   "metadata": {},
   "outputs": [
    {
     "data": {
      "image/png": "[encoded data removed]",
      "text/plain": [
       "<Figure size 640x480 with 1 Axes>"
      ]
     },
     "metadata": {},
     "output_type": "display_data"
    }
   ],
   "source": [
    "student1=student('Joey Calzone','P1ZZ4')\n",
    "student1.add_work('Hw01',95.2)\n",
    "student1.add_work('Hw02',78)\n",
    "student1.add_work('Hw03',85.5)\n",
    "student1.plot_grades()"
   ]
  },
  {
   "cell_type": "code",
   "execution_count": null,
   "id": "61cc985b-856e-4d9e-8348-1ff29d988462",
   "metadata": {},
   "outputs": [],
   "source": [
    "Class V3, "
   ]
  },
  {
   "cell_type": "code",
   "execution_count": 57,
   "id": "2320bb39-845a-4ff6-af65-db5366cd03a1",
   "metadata": {},
   "outputs": [],
   "source": [
    "class V3():\n",
    "    def __init__(self, instance_size, num_vcpus, memory, disk_space):\n",
    "        self.instance_size=instance_size\n",
    "        self.num_vcpus=num_vcpus\n",
    "        self.memory=memory\n",
    "        self.disk_space=disk_space\n",
    "    def add_disk_space(self, space_needed):\n",
    "        self.disk_space+=space_needed\n",
    "    def has_enough_disk_space(self,amt_required):\n",
    "        if amt_required>=self.disk_space:\n",
    "            print('You do not have enough disk space for this!')\n",
    "            return False\n",
    "        else:\n",
    "            print('You have enough disk space for this')\n",
    "            return True\n",
    "\n",
    "    "
   ]
  },
  {
   "cell_type": "code",
   "execution_count": 58,
   "id": "2754b7ff-b6d0-47ae-9a39-979e2228225b",
   "metadata": {},
   "outputs": [],
   "source": [
    "vm=V3(4,3,1000,500)"
   ]
  },
  {
   "cell_type": "code",
   "execution_count": 59,
   "id": "a38ef534-68d6-4628-abea-f44a1e30fe88",
   "metadata": {},
   "outputs": [],
   "source": [
    "vm.add_disk_space(200)"
   ]
  },
  {
   "cell_type": "code",
   "execution_count": 61,
   "id": "e7bd5756-dd2e-4884-899d-49280043eeb9",
   "metadata": {},
   "outputs": [
    {
     "name": "stdout",
     "output_type": "stream",
     "text": [
      "You do not have enough disk space for this!\n"
     ]
    },
    {
     "data": {
      "text/plain": [
       "False"
      ]
     },
     "execution_count": 61,
     "metadata": {},
     "output_type": "execute_result"
    }
   ],
   "source": [
    "vm.has_enough_disk_space(800)"
   ]
  },
  {
   "cell_type": "code",
   "execution_count": null,
   "id": "e79ad534-f0c9-4212-80f3-e1e8523624ff",
   "metadata": {},
   "outputs": [],
   "source": []
  }
 ],
 "metadata": {
  "kernelspec": {
   "display_name": "Python 3 (ipykernel)",
   "language": "python",
   "name": "python3"
  },
  "language_info": {
   "codemirror_mode": {
    "name": "ipython",
    "version": 3
   },
   "file_extension": ".py",
   "mimetype": "text/x-python",
   "name": "python",
   "nbconvert_exporter": "python",
   "pygments_lexer": "ipython3",
   "version": "3.10.6"
  }
 },
 "nbformat": 4,
 "nbformat_minor": 5
}
