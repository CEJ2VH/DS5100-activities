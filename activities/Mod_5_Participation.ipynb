{
 "cells": [
  {
   "cell_type": "markdown",
   "id": "d6b60a1e-38e1-4f39-a83b-c9fde6c20d49",
   "metadata": {},
   "source": [
    "Question 1 check time for how long it takes to make a list "
   ]
  },
  {
   "cell_type": "code",
   "execution_count": 41,
   "id": "61cd6110-09b3-4a50-81f3-f13fc91019e6",
   "metadata": {},
   "outputs": [
    {
     "name": "stdout",
     "output_type": "stream",
     "text": [
      "0.006507158279418945\n"
     ]
    }
   ],
   "source": [
    "import time\n",
    "t0=time.time()\n",
    "lista=[]\n",
    "for i in range (1,100001,1):\n",
    "    if i%2 == 1:\n",
    "        i = i*-1\n",
    "        lista.append(i)\n",
    "print(time.time()-t0)"
   ]
  },
  {
   "cell_type": "markdown",
   "id": "2406286b-ac85-4d18-846d-5af14d370a9c",
   "metadata": {},
   "source": [
    "Question 2- check time for list comprehension"
   ]
  },
  {
   "cell_type": "code",
   "execution_count": 9,
   "id": "2f8f0b67-6706-4cb5-a451-036644b787f4",
   "metadata": {},
   "outputs": [
    {
     "name": "stdout",
     "output_type": "stream",
     "text": [
      "0.005949974060058594\n"
     ]
    }
   ],
   "source": [
    "t0=time.time()\n",
    "times=[i *-1 if i%2==1 else i for i in range(1,100001)]\n",
    "print(time.time()-t0)"
   ]
  },
  {
   "cell_type": "code",
   "execution_count": null,
   "id": "19cdb5d2-d117-4a5a-bc59-a3efde875553",
   "metadata": {},
   "outputs": [],
   "source": [
    "Question 3"
   ]
  },
  {
   "cell_type": "code",
   "execution_count": 7,
   "id": "898d2d19-0e4f-427b-9314-ef72e98b5e66",
   "metadata": {},
   "outputs": [
    {
     "data": {
      "text/plain": [
       "array([[[-1.21874945e+00, -2.72765780e+00,  1.13762870e+00,\n",
       "          3.88958386e-01,  6.49532178e-01, -3.25592489e-01,\n",
       "          4.26221671e-01,  2.04027808e-03,  1.87965465e-01,\n",
       "         -7.40384997e-01],\n",
       "        [-1.49441191e-01, -4.01851385e-01,  2.95617540e-01,\n",
       "         -4.76405866e-02, -8.65721466e-01,  7.85120188e-01,\n",
       "          6.56674190e-01, -5.01946269e-01, -1.28429555e+00,\n",
       "         -4.14364744e-01],\n",
       "        [-6.36968762e-01, -8.23629074e-01, -2.45969010e-01,\n",
       "         -8.26994148e-02,  2.01785238e+00,  8.55384011e-01,\n",
       "          1.37420803e-01, -1.34333290e+00, -5.37114986e-01,\n",
       "         -7.40052062e-01],\n",
       "        [ 2.55617576e-01, -1.04621934e+00, -1.67588864e+00,\n",
       "         -8.75152723e-01,  1.06565782e+00, -1.35941592e-01,\n",
       "          1.31175097e+00,  7.88499961e-01,  6.58587101e-01,\n",
       "         -1.09659699e+00],\n",
       "        [-1.22157252e+00,  7.90134056e-02, -1.22977421e+00,\n",
       "          3.38758697e-01,  1.23072482e+00,  4.79853712e-01,\n",
       "          3.21326695e-01,  1.77674998e+00,  3.29216987e-01,\n",
       "         -4.21258362e-01],\n",
       "        [ 6.01007638e-01, -6.62231959e-01,  1.21369385e+00,\n",
       "          1.77017909e+00, -3.07582489e-01,  7.44735599e-01,\n",
       "         -3.35186419e-01,  2.67761942e-01,  3.65817026e-01,\n",
       "          1.01406828e+00]]])"
      ]
     },
     "execution_count": 7,
     "metadata": {},
     "output_type": "execute_result"
    }
   ],
   "source": [
    "import numpy as np\n",
    "ran= np.random.randn(1,6,10)\n",
    "ran"
   ]
  },
  {
   "cell_type": "code",
   "execution_count": null,
   "id": "8cc2a352-9d14-475d-8c56-02b587261ecd",
   "metadata": {},
   "outputs": [],
   "source": [
    "Q4"
   ]
  },
  {
   "cell_type": "code",
   "execution_count": 14,
   "id": "0162a38e-1a0c-4839-9576-36451acffdfc",
   "metadata": {},
   "outputs": [
    {
     "name": "stdout",
     "output_type": "stream",
     "text": [
      "<class 'numpy.ndarray'>\n",
      "<class 'numpy.ndarray'>\n",
      "<class 'numpy.ndarray'>\n",
      "<class 'numpy.ndarray'>\n",
      "<class 'numpy.ndarray'>\n",
      "<class 'int'>\n"
     ]
    }
   ],
   "source": [
    "for i in range (1,6):\n",
    "    print(type(np.random.randint(1,21,5)))\n",
    "\n",
    "try1= np.random.randint(3)\n",
    "print(type(try1))\n",
    "\n",
    "#Get return value of array depending on it's called"
   ]
  },
  {
   "cell_type": "markdown",
   "id": "abb54b74-18c8-40d3-baae-9c4aaa5b6cca",
   "metadata": {},
   "source": [
    "Q5 Make it a histogram"
   ]
  },
  {
   "cell_type": "code",
   "execution_count": 17,
   "id": "83b51338-aada-4881-a94b-f703466f76fc",
   "metadata": {},
   "outputs": [
    {
     "data": {
      "text/plain": [
       "(array([1., 0., 0., 0., 1., 0., 1., 1., 0., 1.]),\n",
       " array([ 7. ,  7.9,  8.8,  9.7, 10.6, 11.5, 12.4, 13.3, 14.2, 15.1, 16. ]),\n",
       " <BarContainer object of 10 artists>)"
      ]
     },
     "execution_count": 17,
     "metadata": {},
     "output_type": "execute_result"
    },
    {
     "data": {
      "image/png": "[encoded data removed]",
      "text/plain": [
       "<Figure size 640x480 with 1 Axes>"
      ]
     },
     "metadata": {},
     "output_type": "display_data"
    }
   ],
   "source": [
    "from matplotlib.pyplot import hist\n",
    "test = np.random.randint(1,21,5)\n",
    "hist(test)"
   ]
  },
  {
   "cell_type": "markdown",
   "id": "00d20774-2962-4885-8990-60d54f487e9f",
   "metadata": {},
   "source": [
    "Question 6- Random int array with 2 rows, 3 cols"
   ]
  },
  {
   "cell_type": "code",
   "execution_count": 18,
   "id": "a3ee53be-7535-4226-b674-cfddcbf8f5e2",
   "metadata": {},
   "outputs": [
    {
     "name": "stdout",
     "output_type": "stream",
     "text": [
      "[[1.43487058 1.37360322 0.52632423]\n",
      " [0.08170572 0.60790112 1.19071441]]\n"
     ]
    }
   ],
   "source": [
    "array1 = np.random.randn(2,3)\n",
    "print(array1)"
   ]
  },
  {
   "cell_type": "markdown",
   "id": "b0b6d84f-7970-4e44-86c6-c17dfa61cae0",
   "metadata": {},
   "source": [
    "Question 7 Mult by 2"
   ]
  },
  {
   "cell_type": "code",
   "execution_count": 19,
   "id": "85f2c4a1-1f45-4635-93f8-6a97d53db49f",
   "metadata": {},
   "outputs": [
    {
     "data": {
      "text/plain": [
       "array([[2.86974115, 2.74720643, 1.05264846],\n",
       "       [0.16341144, 1.21580224, 2.38142883]])"
      ]
     },
     "execution_count": 19,
     "metadata": {},
     "output_type": "execute_result"
    }
   ],
   "source": [
    "array2 = array1 * 2\n",
    "array2"
   ]
  },
  {
   "cell_type": "markdown",
   "id": "75e60f94-8d65-4fff-8c70-0f765f964b31",
   "metadata": {},
   "source": [
    "Q8 Add array to itself"
   ]
  },
  {
   "cell_type": "code",
   "execution_count": 20,
   "id": "b9c903ff-cd0c-4a5a-b770-071aeee6211f",
   "metadata": {},
   "outputs": [
    {
     "data": {
      "text/plain": [
       "array([[5.7394823 , 5.49441286, 2.10529692],\n",
       "       [0.32682287, 2.43160448, 4.76285766]])"
      ]
     },
     "execution_count": 20,
     "metadata": {},
     "output_type": "execute_result"
    }
   ],
   "source": [
    "array3 = array2 + array2\n",
    "array3"
   ]
  },
  {
   "cell_type": "markdown",
   "id": "fcfde1e9-2651-4c14-8c38-ef04ae398999",
   "metadata": {},
   "source": [
    "Q9 Get a matrix of reciprocals"
   ]
  },
  {
   "cell_type": "code",
   "execution_count": 22,
   "id": "7a97cc2c-8801-4161-8648-14ace8d2114a",
   "metadata": {},
   "outputs": [
    {
     "name": "stdout",
     "output_type": "stream",
     "text": [
      "[[0.17423174 0.18200307 0.47499238]\n",
      " [3.05976136 0.41125109 0.20995799]]\n",
      "[[0.17423174 0.18200307 0.47499238]\n",
      " [3.05976136 0.41125109 0.20995799]]\n"
     ]
    }
   ],
   "source": [
    "recip = np.reciprocal(array3)\n",
    "print(recip)\n",
    "\n",
    "recip2 = 1/array3\n",
    "print(recip2)"
   ]
  },
  {
   "cell_type": "code",
   "execution_count": 32,
   "id": "76eec100-0990-4f6e-9e41-83e70a326a61",
   "metadata": {},
   "outputs": [
    {
     "name": "stdout",
     "output_type": "stream",
     "text": [
      "[[0. 0. 0. 0.]\n",
      " [0. 0. 0. 0.]]\n",
      "[[1. 1. 1. 1.]\n",
      " [1. 1. 1. 1.]]\n"
     ]
    }
   ],
   "source": [
    "arr0=np.zeros((2,4))\n",
    "arrones= np.ones((2,4))\n",
    "print(arr0)\n",
    "print(arrones)"
   ]
  },
  {
   "cell_type": "markdown",
   "id": "ab50ccc1-9b10-4ecc-afac-94d59e2ffbd8",
   "metadata": {},
   "source": [
    "Create an identiy matrix"
   ]
  },
  {
   "cell_type": "code",
   "execution_count": 30,
   "id": "2b30737e-4a98-49d8-9842-d27ccd3f3dc3",
   "metadata": {},
   "outputs": [],
   "source": [
    "ident=np.identity(4)\n",
    "ident"
   ]
  },
  {
   "cell_type": "markdown",
   "id": "99b69aca-452f-4039-bffa-6aeb56bb9139",
   "metadata": {},
   "source": [
    "Make vector with 5  random ints, take middle 3 slices"
   ]
  },
  {
   "cell_type": "code",
   "execution_count": 38,
   "id": "8b5d8b66-4800-4599-8504-ee0ec940e786",
   "metadata": {},
   "outputs": [
    {
     "data": {
      "text/plain": [
       "array([ 0.57524023, -0.48024078,  0.32076248])"
      ]
     },
     "execution_count": 38,
     "metadata": {},
     "output_type": "execute_result"
    }
   ],
   "source": [
    "vec= np.random.randn(5)\n",
    "sliced= vec[1:4]\n",
    "sliced"
   ]
  },
  {
   "cell_type": "markdown",
   "id": "50ac1b9a-0a23-4c79-961e-7d4688c26e10",
   "metadata": {},
   "source": [
    "Filter on the array with vals > .15"
   ]
  },
  {
   "cell_type": "code",
   "execution_count": 42,
   "id": "f1ec3a05-26c8-4288-80dc-05526bc76457",
   "metadata": {},
   "outputs": [
    {
     "data": {
      "text/plain": [
       "array([0.73572336, 0.57524023, 0.32076248, 0.58142491])"
      ]
     },
     "execution_count": 42,
     "metadata": {},
     "output_type": "execute_result"
    }
   ],
   "source": [
    "vec[vec>.15]\n",
    "#Could also do a longer list comprehension using the zip() function\n",
    "# or an lc like [x for x if vec > .15]"
   ]
  },
  {
   "cell_type": "markdown",
   "id": "8311ae00-d749-4ffe-9b97-d6dce51c123c",
   "metadata": {},
   "source": [
    "Q 14 make 3x3 random int array and slice all rows but the first, and all columns but the last"
   ]
  },
  {
   "cell_type": "code",
   "execution_count": 46,
   "id": "9a35c4c5-efd7-48b8-83fa-e80bd766fd57",
   "metadata": {},
   "outputs": [
    {
     "name": "stdout",
     "output_type": "stream",
     "text": [
      "[[ 1.24518228 -1.08288381 -1.16267425]\n",
      " [ 0.99571346 -0.24154876 -2.16294145]\n",
      " [ 0.63244405 -0.24493745  0.5186178 ]]\n",
      "[[ 0.99571346 -0.24154876]\n",
      " [ 0.63244405 -0.24493745]]\n"
     ]
    }
   ],
   "source": [
    "array4 = np.random.randn(3,3)\n",
    "sliced2=array4[1:,:2]\n",
    "\n",
    "print(array4)\n",
    "print(sliced2)\n",
    "\n"
   ]
  },
  {
   "cell_type": "markdown",
   "id": "0bf13814-5fea-4c1e-8b52-f5facc7e4b85",
   "metadata": {},
   "source": [
    "Make a copy of the last array (not assignment), and change all negative nums to 0"
   ]
  },
  {
   "cell_type": "code",
   "execution_count": 47,
   "id": "3ef2a13d-0354-45ce-8fc4-4966cb337b7e",
   "metadata": {},
   "outputs": [
    {
     "data": {
      "text/plain": [
       "array([[1.24518228, 0.        , 0.        ],\n",
       "       [0.99571346, 0.        , 0.        ],\n",
       "       [0.63244405, 0.        , 0.5186178 ]])"
      ]
     },
     "execution_count": 47,
     "metadata": {},
     "output_type": "execute_result"
    }
   ],
   "source": [
    "array5= array4.copy()\n",
    "array5[array5<0]=0\n",
    "array5"
   ]
  },
  {
   "cell_type": "code",
   "execution_count": 4,
   "id": "da65452b-1581-437a-b99b-14debe657154",
   "metadata": {},
   "outputs": [],
   "source": [
    "import numpy as np\n",
    "def rolldice(length, sides=6, sort=False, reverse=False):\n",
    "    rolls= test = np.random.randint(1,length, sides+1)\n",
    "    if sort:\n",
    "        return sorted(rolls, reverse=reverse)\n",
    "    else:\n",
    "        return list(rolls)\n"
   ]
  },
  {
   "cell_type": "code",
   "execution_count": 5,
   "id": "8ac691c7-8b65-4500-a17b-9a53af1fabfc",
   "metadata": {},
   "outputs": [
    {
     "data": {
      "text/plain": [
       "[np.int32(4),\n",
       " np.int32(3),\n",
       " np.int32(4),\n",
       " np.int32(4),\n",
       " np.int32(3),\n",
       " np.int32(2),\n",
       " np.int32(4),\n",
       " np.int32(1)]"
      ]
     },
     "execution_count": 5,
     "metadata": {},
     "output_type": "execute_result"
    }
   ],
   "source": [
    "try1=rolldice(5,7)\n",
    "try1"
   ]
  },
  {
   "cell_type": "code",
   "execution_count": null,
   "id": "dc4778c1-9624-44ea-b2ad-e4d8061015a4",
   "metadata": {},
   "outputs": [],
   "source": []
  }
 ],
 "metadata": {
  "kernelspec": {
   "display_name": "Python 3 (ipykernel)",
   "language": "python",
   "name": "python3"
  },
  "language_info": {
   "codemirror_mode": {
    "name": "ipython",
    "version": 3
   },
   "file_extension": ".py",
   "mimetype": "text/x-python",
   "name": "python",
   "nbconvert_exporter": "python",
   "pygments_lexer": "ipython3",
   "version": "3.10.6"
  }
 },
 "nbformat": 4,
 "nbformat_minor": 5
}
