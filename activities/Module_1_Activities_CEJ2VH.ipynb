{
 "cells": [
  {
   "cell_type": "code",
   "execution_count": 1,
   "id": "4c77302c-18d5-4520-9e50-4b587fccbfc3",
   "metadata": {
    "tags": []
   },
   "outputs": [],
   "source": [
    "any_string=\"Here is a string\""
   ]
  },
  {
   "cell_type": "code",
   "execution_count": 6,
   "id": "deac8377-eac1-423e-9286-aa7d0e742346",
   "metadata": {
    "tags": []
   },
   "outputs": [
    {
     "name": "stdout",
     "output_type": "stream",
     "text": [
      "Her\n"
     ]
    }
   ],
   "source": [
    "print(any_string[:3])"
   ]
  },
  {
   "cell_type": "code",
   "execution_count": 45,
   "id": "5be36369-580f-458b-bd72-14f4e7671da3",
   "metadata": {
    "tags": []
   },
   "outputs": [
    {
     "name": "stdout",
     "output_type": "stream",
     "text": [
      "ing\n"
     ]
    }
   ],
   "source": [
    "check=any_string[-3:]\n",
    "print(check)\n",
    "#need to fix"
   ]
  },
  {
   "cell_type": "code",
   "execution_count": null,
   "id": "a4b605df-8797-44de-813a-16e470d034a4",
   "metadata": {},
   "outputs": [],
   "source": [
    "--need to check length"
   ]
  },
  {
   "cell_type": "code",
   "execution_count": 11,
   "id": "a8e4b15f-1dcb-4e9c-ac32-263c49053a92",
   "metadata": {
    "tags": []
   },
   "outputs": [
    {
     "name": "stdout",
     "output_type": "stream",
     "text": [
      "meenie\n"
     ]
    }
   ],
   "source": [
    "list = ['Eenie','meenie','miny']\n",
    "print(list[1])\n",
    "# append() would have been more in the spirit of the question, I see now "
   ]
  },
  {
   "cell_type": "code",
   "execution_count": 13,
   "id": "afbd2fa9-9a9e-4be1-bbcc-a03e6ec01006",
   "metadata": {
    "tags": []
   },
   "outputs": [
    {
     "ename": "AttributeError",
     "evalue": "'tuple' object has no attribute 'append'",
     "output_type": "error",
     "traceback": [
      "\u001b[0;31m---------------------------------------------------------------------------\u001b[0m",
      "\u001b[0;31mAttributeError\u001b[0m                            Traceback (most recent call last)",
      "Cell \u001b[0;32mIn[13], line 2\u001b[0m\n\u001b[1;32m      1\u001b[0m tuple1\u001b[38;5;241m=\u001b[39m (\u001b[38;5;124m\"\u001b[39m\u001b[38;5;124mLarry\u001b[39m\u001b[38;5;124m\"\u001b[39m, \u001b[38;5;124m\"\u001b[39m\u001b[38;5;124mCurly\u001b[39m\u001b[38;5;124m\"\u001b[39m, \u001b[38;5;124m\"\u001b[39m\u001b[38;5;124mMoe\u001b[39m\u001b[38;5;124m\"\u001b[39m)\n\u001b[0;32m----> 2\u001b[0m \u001b[43mtuple1\u001b[49m\u001b[38;5;241;43m.\u001b[39;49m\u001b[43mappend\u001b[49m(\u001b[38;5;124m\"\u001b[39m\u001b[38;5;124mAnd me!\u001b[39m\u001b[38;5;124m\"\u001b[39m)\n",
      "\u001b[0;31mAttributeError\u001b[0m: 'tuple' object has no attribute 'append'"
     ]
    }
   ],
   "source": [
    "tuple1= (\"Larry\", \"Curly\", \"Moe\")\n",
    "tuple1.append(\"And me!\")\n",
    "# You don't have to use parentheses in tuples, who knew!\n",
    "# You don't have to wrap, either way you get an error\n",
    "# You can also cast a list to a tuple\n",
    "# Once it's a tuple it becomes immutable, so once it's cast you lose the append just as if it were never a list"
   ]
  },
  {
   "cell_type": "code",
   "execution_count": 37,
   "id": "4625b2dc-3ada-4662-a981-fa58be2c5cc6",
   "metadata": {
    "tags": []
   },
   "outputs": [
    {
     "data": {
      "text/plain": [
       "True"
      ]
     },
     "execution_count": 37,
     "metadata": {},
     "output_type": "execute_result"
    }
   ],
   "source": [
    "strn = 'cheese'\n",
    "myset = {'ham','bread','cheese'}\n",
    "strn in myset\n",
    "# sets are a listlike object designed to be operated on (ex: unions)\n",
    "# need to fix"
   ]
  },
  {
   "cell_type": "code",
   "execution_count": 41,
   "id": "0d01695b-a5bc-4d37-bbcc-1f3019769add",
   "metadata": {
    "tags": []
   },
   "outputs": [
    {
     "name": "stdout",
     "output_type": "stream",
     "text": [
      "Large\n"
     ]
    },
    {
     "ename": "TypeError",
     "evalue": "'list' object is not callable",
     "output_type": "error",
     "traceback": [
      "\u001b[0;31m---------------------------------------------------------------------------\u001b[0m",
      "\u001b[0;31mTypeError\u001b[0m                                 Traceback (most recent call last)",
      "Cell \u001b[0;32mIn[41], line 8\u001b[0m\n\u001b[1;32m      6\u001b[0m value\u001b[38;5;241m=\u001b[39madict\u001b[38;5;241m.\u001b[39mget(\u001b[38;5;124m'\u001b[39m\u001b[38;5;124msize\u001b[39m\u001b[38;5;124m'\u001b[39m)\n\u001b[1;32m      7\u001b[0m \u001b[38;5;28mprint\u001b[39m(value)\n\u001b[0;32m----> 8\u001b[0m keysList \u001b[38;5;241m=\u001b[39m \u001b[38;5;28;43mlist\u001b[39;49m\u001b[43m(\u001b[49m\u001b[43madict\u001b[49m\u001b[38;5;241;43m.\u001b[39;49m\u001b[43mkeys\u001b[49m\u001b[43m(\u001b[49m\u001b[43m)\u001b[49m\u001b[43m)\u001b[49m\n\u001b[1;32m      9\u001b[0m \u001b[38;5;66;03m#getting an error on this one?\u001b[39;00m\n",
      "\u001b[0;31mTypeError\u001b[0m: 'list' object is not callable"
     ]
    }
   ],
   "source": [
    "adict ={\n",
    "  'brand': 'Colgate',\n",
    "  'color': 'Blue',\n",
    "  \"size\": 'Large'\n",
    "}\n",
    "value=adict.get('size')\n",
    "print(value)\n",
    "keysList = list(adict.keys())\n",
    "#getting an error on this one?\n"
   ]
  },
  {
   "cell_type": "code",
   "execution_count": 23,
   "id": "3d4ddde7-d5e9-485b-89d1-9b394943206e",
   "metadata": {
    "tags": []
   },
   "outputs": [],
   "source": [
    "sentence=\"The quick brown fox jumped over the lazy dogs\"\n",
    "sentence2 = sentence.replace('.','')\n",
    "sentence3 = sentence2.lower()\n",
    "sentence4= sentence3.split()\n",
    "setsentence=set(sentence4)\n",
    "#replace the period with a ''\n",
    "#convert to lower\n",
    "#split the lowercase sentence using split()\n",
    "#turn that list into a set\n",
    "#sort the set\n",
    "#can also use method chaining, i.e. you can do sorted(set(replace(lower())))) etc"
   ]
  },
  {
   "cell_type": "code",
   "execution_count": 24,
   "id": "1350618d-190a-43fe-be94-a1c12b502c25",
   "metadata": {
    "tags": []
   },
   "outputs": [
    {
     "name": "stdout",
     "output_type": "stream",
     "text": [
      "{'fox', 'jumped', 'dogs', 'quick', 'lazy', 'brown', 'over', 'the'}\n"
     ]
    }
   ],
   "source": [
    "print(setsentence)"
   ]
  },
  {
   "cell_type": "code",
   "execution_count": 29,
   "id": "e34d9325-6722-4d96-813d-212e5346da0b",
   "metadata": {
    "tags": []
   },
   "outputs": [
    {
     "name": "stdout",
     "output_type": "stream",
     "text": [
      "8\n",
      "9\n"
     ]
    }
   ],
   "source": [
    "print(len(setsentence))\n",
    "print(len(sentence4))\n",
    "#could have done abs(len((setsentence))-(len(sentence4)))"
   ]
  },
  {
   "cell_type": "code",
   "execution_count": 31,
   "id": "d527982b-a03c-4f38-8b29-45e9d8fd742c",
   "metadata": {
    "tags": []
   },
   "outputs": [
    {
     "name": "stdout",
     "output_type": "stream",
     "text": [
      "x:12, string2:here, y: 5\n"
     ]
    }
   ],
   "source": [
    "x=12\n",
    "string2='here'\n",
    "y=5\n",
    "print(f'x:{x}, string2:{string2}, y: {y}')"
   ]
  },
  {
   "cell_type": "code",
   "execution_count": 35,
   "id": "d1cc813c-c006-4297-995e-e56c636612b4",
   "metadata": {
    "tags": []
   },
   "outputs": [
    {
     "name": "stdout",
     "output_type": "stream",
     "text": [
      "False\n"
     ]
    }
   ],
   "source": [
    "a= 1.176\n",
    "b= 3.002\n",
    "c= int(a//b)\n",
    "c\n",
    "test = c > 3\n",
    "print(test)"
   ]
  },
  {
   "cell_type": "code",
   "execution_count": 36,
   "id": "d9fb0147-6ba5-4aa7-ab10-89f0b7e48ddf",
   "metadata": {
    "tags": []
   },
   "outputs": [
    {
     "data": {
      "text/plain": [
       "False"
      ]
     },
     "execution_count": 36,
     "metadata": {},
     "output_type": "execute_result"
    }
   ],
   "source": [
    "a = 0.15 + 0.15\n",
    "b = 0.1 + 0.2\n",
    "a==b\n",
    "#Floating point comparisons are unreliable because of the way computers store values"
   ]
  },
  {
   "cell_type": "code",
   "execution_count": null,
   "id": "436a81e8-dffa-4073-a7f3-e103475eabc0",
   "metadata": {},
   "outputs": [],
   "source": []
  }
 ],
 "metadata": {
  "kernelspec": {
   "display_name": "Python 3 (ipykernel)",
   "language": "python",
   "name": "python3"
  },
  "language_info": {
   "codemirror_mode": {
    "name": "ipython",
    "version": 3
   },
   "file_extension": ".py",
   "mimetype": "text/x-python",
   "name": "python",
   "nbconvert_exporter": "python",
   "pygments_lexer": "ipython3",
   "version": "3.11.4"
  }
 },
 "nbformat": 4,
 "nbformat_minor": 5
}
