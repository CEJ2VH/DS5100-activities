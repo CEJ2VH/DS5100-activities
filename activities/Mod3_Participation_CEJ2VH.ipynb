{
 "cells": [
  {
   "cell_type": "markdown",
   "id": "233529d4-9b79-4435-b311-da0b4776eb3e",
   "metadata": {},
   "source": [
    "Exercise 3.1"
   ]
  },
  {
   "cell_type": "code",
   "execution_count": 4,
   "id": "28d9f872-d3f3-4f8d-9e0a-21b2eb69d28d",
   "metadata": {},
   "outputs": [
    {
     "ename": "SyntaxError",
     "evalue": "invalid syntax (595667270.py, line 1)",
     "output_type": "error",
     "traceback": [
      "\u001b[1;36m  Cell \u001b[1;32mIn[4], line 1\u001b[1;36m\u001b[0m\n\u001b[1;33m    Nothing prints\u001b[0m\n\u001b[1;37m            ^\u001b[0m\n\u001b[1;31mSyntaxError\u001b[0m\u001b[1;31m:\u001b[0m invalid syntax\n"
     ]
    }
   ],
   "source": [
    "Nothing prints"
   ]
  },
  {
   "cell_type": "markdown",
   "id": "847c84ba-3a26-46ae-93e9-93d045e66052",
   "metadata": {},
   "source": [
    "Exercise 3.2"
   ]
  },
  {
   "cell_type": "code",
   "execution_count": 3,
   "id": "d79be96a-cbb0-4fea-b6cc-c08478e6667b",
   "metadata": {},
   "outputs": [
    {
     "name": "stdout",
     "output_type": "stream",
     "text": [
      "-2\n",
      "4\n",
      "max_val\n",
      "0\n",
      "5\n"
     ]
    }
   ],
   "source": [
    "xx=[-2,4,6,0,5]\n",
    "maxval=max(xx)\n",
    "for x in xx:\n",
    "    if x < maxval:\n",
    "        print(x)\n",
    "    else:\n",
    "        print(\"max_val\")"
   ]
  },
  {
   "cell_type": "markdown",
   "id": "63033d2f-6f19-4b2f-b8b9-d0bbc3133e64",
   "metadata": {},
   "source": [
    "Exercise 3.3"
   ]
  },
  {
   "cell_type": "code",
   "execution_count": 10,
   "id": "e5c8e56f-03bc-4cab-b9e6-6c1093d89dd0",
   "metadata": {},
   "outputs": [
    {
     "name": "stdout",
     "output_type": "stream",
     "text": [
      "0\n",
      "10\n",
      "20\n",
      "30\n",
      "40\n",
      "50\n",
      "60\n",
      "70\n",
      "80\n",
      "90\n"
     ]
    }
   ],
   "source": [
    "it=0\n",
    "max_iter=100\n",
    "while it < max_iter:\n",
    "    if it==0 or it%10==0:\n",
    "        print(it)\n",
    "    it +=1"
   ]
  },
  {
   "cell_type": "markdown",
   "id": "03509504-47e5-41d6-a825-d21a4fee8af3",
   "metadata": {},
   "source": [
    "3.4"
   ]
  },
  {
   "cell_type": "code",
   "execution_count": 15,
   "id": "a8eb17c7-31da-45c6-94b2-5d1b1896caf1",
   "metadata": {},
   "outputs": [
    {
     "name": "stdout",
     "output_type": "stream",
     "text": [
      "italy\n",
      "france\n",
      "congo\n",
      "greece\n",
      "/nAlternate comprehension method:\n",
      "italy\n",
      "france\n",
      "congo\n",
      "greece\n"
     ]
    }
   ],
   "source": [
    "places=['Italy','France','Congo','Greece']\n",
    "for p in places:\n",
    "    print(p.lower())\n",
    "print('Alternate comprehension method:')\n",
    "_=[print(p.lower()) for p in places]\n",
    "# Underscore _ is a dummy variable"
   ]
  },
  {
   "cell_type": "markdown",
   "id": "78ad7b96-092a-4545-8adb-c523474d3991",
   "metadata": {},
   "source": [
    "3.5"
   ]
  },
  {
   "cell_type": "code",
   "execution_count": 20,
   "id": "4fdc2634-fc3e-4da5-b32d-147ed9d9dbfd",
   "metadata": {},
   "outputs": [
    {
     "name": "stdout",
     "output_type": "stream",
     "text": [
      "Italy\n",
      "France\n",
      "Congo\n",
      "Greece\n"
     ]
    }
   ],
   "source": [
    "myit=iter(places)\n",
    "print(next(myit))\n",
    "print(next(myit))\n",
    "print(next(myit))\n",
    "print(next(myit))\n",
    "\n",
    "# _=[print(next(myit)) for p in range(len(places))]"
   ]
  },
  {
   "cell_type": "markdown",
   "id": "a753e49b-966a-458a-8748-6c0c2168fe97",
   "metadata": {},
   "source": [
    "3.6"
   ]
  },
  {
   "cell_type": "code",
   "execution_count": 29,
   "id": "c90b3a04-f948-4b1a-97ba-330f2bf45ad3",
   "metadata": {},
   "outputs": [
    {
     "name": "stdout",
     "output_type": "stream",
     "text": [
      "Whoville 12345\n",
      "Gotham 45678\n"
     ]
    }
   ],
   "source": [
    "cities={'Whoville':12345, 'Gotham':45678}\n",
    "for city, zip in cities.items():\n",
    "    print(city, zip)\n",
    "\n",
    "#_=[print(city,zip) for city, zip in cities.items()] comprehension method"
   ]
  },
  {
   "cell_type": "markdown",
   "id": "84b4c2a2-3734-43eb-8536-5c3758c4f4b0",
   "metadata": {},
   "source": [
    "3.7"
   ]
  },
  {
   "cell_type": "code",
   "execution_count": 30,
   "id": "b6e54d4f-a267-47e0-a4fa-9ddc4e989f30",
   "metadata": {},
   "outputs": [
    {
     "name": "stdout",
     "output_type": "stream",
     "text": [
      "Whoville 12345\n",
      "Gotham 45678\n"
     ]
    }
   ],
   "source": [
    "for zip in cities.keys():\n",
    "    print(zip,cities[zip])"
   ]
  },
  {
   "cell_type": "markdown",
   "id": "2817040e-5f93-4d75-a72a-e62b0c1a1001",
   "metadata": {},
   "source": [
    "3.8"
   ]
  },
  {
   "cell_type": "code",
   "execution_count": 31,
   "id": "8c5688f9-c85f-42e6-8105-67d927b81275",
   "metadata": {},
   "outputs": [
    {
     "name": "stdout",
     "output_type": "stream",
     "text": [
      "8\n",
      "343\n",
      "27\n",
      "1\n",
      "216\n"
     ]
    }
   ],
   "source": [
    "nums=[2,7,3,1,6]\n",
    "_=[print(n**3) for n in nums]\n",
    "\n",
    "# cubes = val**3 for val in nums"
   ]
  },
  {
   "cell_type": "code",
   "execution_count": null,
   "id": "ac22a512-5904-4ec8-8020-14260c0cf453",
   "metadata": {},
   "outputs": [],
   "source": [
    "3.9"
   ]
  },
  {
   "cell_type": "code",
   "execution_count": 38,
   "id": "66e9a2d7-2b87-4274-8f94-ca6e5464bcad",
   "metadata": {},
   "outputs": [
    {
     "name": "stdout",
     "output_type": "stream",
     "text": [
      "['14', '5100', '12']\n"
     ]
    }
   ],
   "source": [
    "mylist=['hey','yeah','14','False','5100','JJ','12']\n",
    "nums= [x for x in mylist if x.isdigit()]\n",
    "print(nums)"
   ]
  },
  {
   "cell_type": "code",
   "execution_count": null,
   "id": "f334fb8d-c571-4f25-97aa-c003c05a0c70",
   "metadata": {},
   "outputs": [],
   "source": [
    "3.10"
   ]
  },
  {
   "cell_type": "code",
   "execution_count": 43,
   "id": "771fc328-e355-453e-9bb5-81cab02f9009",
   "metadata": {},
   "outputs": [
    {
     "data": {
      "text/plain": [
       "{'max_depth': [5, 10], 'max_iter': [10, 20]}"
      ]
     },
     "execution_count": 43,
     "metadata": {},
     "output_type": "execute_result"
    }
   ],
   "source": [
    "grid={\n",
    "'max_depth':[5,10],\n",
    "'ntrees':[100,200,300],\n",
    "'regularization':[11,12],\n",
    "'max_iter':[10,20]\n",
    "}\n",
    "\n",
    "maxes= {key : grid[key] for key in grid.keys() if 'max' in key}\n",
    "maxes\n",
    "# need to practice the dictionary comprehension"
   ]
  },
  {
   "cell_type": "code",
   "execution_count": null,
   "id": "3c64bb76-35ea-47b4-a205-6b0a6cab1f1e",
   "metadata": {},
   "outputs": [],
   "source": [
    "# for later: create a dictionary with the same keys but only the max values of each associated list"
   ]
  },
  {
   "cell_type": "code",
   "execution_count": null,
   "id": "38df86e7-95dd-43ae-8584-c1626aa2f7f8",
   "metadata": {},
   "outputs": [],
   "source": []
  }
 ],
 "metadata": {
  "kernelspec": {
   "display_name": "Python 3 (ipykernel)",
   "language": "python",
   "name": "python3"
  },
  "language_info": {
   "codemirror_mode": {
    "name": "ipython",
    "version": 3
   },
   "file_extension": ".py",
   "mimetype": "text/x-python",
   "name": "python",
   "nbconvert_exporter": "python",
   "pygments_lexer": "ipython3",
   "version": "3.10.6"
  }
 },
 "nbformat": 4,
 "nbformat_minor": 5
}
